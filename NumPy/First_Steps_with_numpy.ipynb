{
  "nbformat": 4,
  "nbformat_minor": 0,
  "metadata": {
    "colab": {
      "name": "First Steps with numpy.ipynb",
      "version": "0.3.2",
      "provenance": []
    },
    "kernelspec": {
      "name": "python3",
      "display_name": "Python 3"
    }
  },
  "cells": [
    {
      "metadata": {
        "id": "U7-QGi5iT6ok",
        "colab_type": "text"
      },
      "cell_type": "markdown",
      "source": [
        "# First Steps with Numpy\n",
        "\n",
        "Numpy is a package for scientific computing with Python. <br/>It contains among other things:\n",
        "\n",
        "- a powerful N-dimensional array object\n",
        "- sophisticated (broadcasting) functions\n",
        "- tools for integrating C/C++ and Fortran code\n",
        "- useful linear algebra, Fourier transform, and random number capabilities\n",
        "\n",
        "In this notebook, we are gonna see some basic usage of numpy.\n",
        "\n",
        "So, let the fun begin!!"
      ]
    },
    {
      "metadata": {
        "id": "CyDF2gvOTaNv",
        "colab_type": "code",
        "colab": {}
      },
      "cell_type": "code",
      "source": [
        "# Essential imports\n",
        "import numpy as np"
      ],
      "execution_count": 0,
      "outputs": []
    },
    {
      "metadata": {
        "id": "AaoC_0PZWMwQ",
        "colab_type": "text"
      },
      "cell_type": "markdown",
      "source": [
        "## ndarray (N - Dimensional Array)\n",
        "\n",
        "An ndarray is a (usually fixed-size) multidimensional container of items of the same type and size.\n"
      ]
    },
    {
      "metadata": {
        "id": "2WP_Dq-oThcc",
        "colab_type": "code",
        "colab": {
          "base_uri": "https://localhost:8080/",
          "height": 191
        },
        "outputId": "456b6b1e-e411-4a71-bf9e-caf96180710e"
      },
      "cell_type": "code",
      "source": [
        "# Define ndarray using np.array\n",
        "# params\n",
        "#   object - array object\n",
        "#   dtype - The desired data-type for the array\n",
        "\n",
        "np_arr_1 = np.array([1, 2, 3, 4, 5, 6, 7, 8], dtype=np.int32)\n",
        "np_arr_2 = np.array([[1, 2, 3, 4], [5, 6, 7, 8]], dtype=np.float32)\n",
        "np_arr_3 = np.array([[[1, 2, 3, 4], [5, 6, 7, 8]], [[1, 2, 3, 4], [5, 6, 7, 8]]], dtype=np.float64)\n",
        "\n",
        "print (np_arr_1)\n",
        "print (\"--------------------------\")\n",
        "print (np_arr_2)\n",
        "print (\"--------------------------\")\n",
        "print (np_arr_3)"
      ],
      "execution_count": 2,
      "outputs": [
        {
          "output_type": "stream",
          "text": [
            "[1 2 3 4 5 6 7 8]\n",
            "--------------------------\n",
            "[[1. 2. 3. 4.]\n",
            " [5. 6. 7. 8.]]\n",
            "--------------------------\n",
            "[[[1. 2. 3. 4.]\n",
            "  [5. 6. 7. 8.]]\n",
            "\n",
            " [[1. 2. 3. 4.]\n",
            "  [5. 6. 7. 8.]]]\n"
          ],
          "name": "stdout"
        }
      ]
    },
    {
      "metadata": {
        "id": "yC9NKhRXYB1E",
        "colab_type": "code",
        "colab": {
          "base_uri": "https://localhost:8080/",
          "height": 225
        },
        "outputId": "afd50977-2204-4a42-9d2a-b903cb73771c"
      },
      "cell_type": "code",
      "source": [
        "# Define ndarray using np.zeros\n",
        "# params\n",
        "#   shape - shape of the resultant np.ndarray\n",
        "#   dtype - The desired data-type for the array\n",
        "\n",
        "np_zeros_1 = np.zeros(shape=(2), dtype=np.float32)\n",
        "np_zeros_2 = np.zeros(shape=(2, 2), dtype=np.float64)\n",
        "np_zeros_3 = np.zeros(shape=(2, 3, 2), dtype=np.int32)\n",
        "\n",
        "print (np_zeros_1)\n",
        "print (\"--------------------------\")\n",
        "print (np_zeros_2)\n",
        "print (\"--------------------------\")\n",
        "print (np_zeros_3)"
      ],
      "execution_count": 3,
      "outputs": [
        {
          "output_type": "stream",
          "text": [
            "[0. 0.]\n",
            "--------------------------\n",
            "[[0. 0.]\n",
            " [0. 0.]]\n",
            "--------------------------\n",
            "[[[0 0]\n",
            "  [0 0]\n",
            "  [0 0]]\n",
            "\n",
            " [[0 0]\n",
            "  [0 0]\n",
            "  [0 0]]]\n"
          ],
          "name": "stdout"
        }
      ]
    },
    {
      "metadata": {
        "id": "jizmz87kbhDt",
        "colab_type": "code",
        "colab": {
          "base_uri": "https://localhost:8080/",
          "height": 52
        },
        "outputId": "83ae88b4-bbef-4013-ab13-52ae69b9ce63"
      },
      "cell_type": "code",
      "source": [
        "# Check the type using type\n",
        "print ('Type of np_arr_2 :', type (np_arr_2))\n",
        "print ('Type of np_arr_3 :', type (np_arr_3))"
      ],
      "execution_count": 4,
      "outputs": [
        {
          "output_type": "stream",
          "text": [
            "Type of np_arr_2 : <class 'numpy.ndarray'>\n",
            "Type of np_arr_3 : <class 'numpy.ndarray'>\n"
          ],
          "name": "stdout"
        }
      ]
    },
    {
      "metadata": {
        "id": "VElBRQuXcWLe",
        "colab_type": "code",
        "colab": {
          "base_uri": "https://localhost:8080/",
          "height": 69
        },
        "outputId": "2a71a501-349d-4ff0-b6b8-df3408742292"
      },
      "cell_type": "code",
      "source": [
        "# Check the type of elements present in the np.array\n",
        "print ('Type of the element np_arr_1: ', np_arr_1.dtype)\n",
        "print ('Type of the element np_arr_2: ', np_arr_2.dtype)\n",
        "print ('Type of the element np_arr_3: ', np_arr_3.dtype)"
      ],
      "execution_count": 5,
      "outputs": [
        {
          "output_type": "stream",
          "text": [
            "Type of the element np_arr_1:  int32\n",
            "Type of the element np_arr_2:  float32\n",
            "Type of the element np_arr_3:  float64\n"
          ],
          "name": "stdout"
        }
      ]
    },
    {
      "metadata": {
        "id": "DVHnMyD5eFBo",
        "colab_type": "code",
        "colab": {
          "base_uri": "https://localhost:8080/",
          "height": 69
        },
        "outputId": "a3785fee-4c80-454b-f186-942e3a2e8bd8"
      },
      "cell_type": "code",
      "source": [
        "# Check the shape of the ndarray\n",
        "print ('Shape of the element np_arr_1: ', np_arr_1.shape)\n",
        "print ('Shape of the element np_arr_2: ', np_arr_2.shape)\n",
        "print ('Shape of the element np_arr_3: ', np_arr_3.shape)"
      ],
      "execution_count": 6,
      "outputs": [
        {
          "output_type": "stream",
          "text": [
            "Shape of the element np_arr_1:  (8,)\n",
            "Shape of the element np_arr_2:  (2, 4)\n",
            "Shape of the element np_arr_3:  (2, 2, 4)\n"
          ],
          "name": "stdout"
        }
      ]
    },
    {
      "metadata": {
        "id": "Sef2-0hzeXge",
        "colab_type": "code",
        "colab": {
          "base_uri": "https://localhost:8080/",
          "height": 52
        },
        "outputId": "d7dc5cd4-7e1e-4255-881e-3d3bd1783825"
      },
      "cell_type": "code",
      "source": [
        "# Accessing the elements in the ndarray\n",
        "\n",
        "# The element in the second row and the first column \n",
        "print ('np_arr_2[1, 0] : ', np_arr_2[1, 0]) # since its 0-indexed\n",
        "\n",
        "# Will return an np.array\n",
        "print ('np_arr_3[0, 1] : ', np_arr_3[0, 1])"
      ],
      "execution_count": 7,
      "outputs": [
        {
          "output_type": "stream",
          "text": [
            "np_arr_2[1, 0] :  5.0\n",
            "np_arr_3[0, 1] :  [5. 6. 7. 8.]\n"
          ],
          "name": "stdout"
        }
      ]
    },
    {
      "metadata": {
        "id": "cLiUKz6Aen-J",
        "colab_type": "code",
        "colab": {
          "base_uri": "https://localhost:8080/",
          "height": 86
        },
        "outputId": "171ac5bd-7644-4e0d-947f-33e63deb127a"
      },
      "cell_type": "code",
      "source": [
        "# Slicing\n",
        "# Getting slices of np.ndarray\n",
        "\n",
        "# All elements from the start till the 4th index (exclusive)\n",
        "print ('np_arr_1[:4]    : ', np_arr_1[:4])\n",
        "\n",
        "# All elements from the 4th index (inclusive) till the last element in the array\n",
        "print ('np_arr_1[4:]    : ', np_arr_1[4:])\n",
        "\n",
        "# All elements from the 3rd index (inclusive) till the 5th index (exclusive)\n",
        "print ('np_arr_1[3:5]   : ', np_arr_1[3:5])\n",
        "\n",
        "# Get all the rows from the first column\n",
        "print ('np_arr_2[:, 1]  : ', np_arr_2[:, 1])"
      ],
      "execution_count": 8,
      "outputs": [
        {
          "output_type": "stream",
          "text": [
            "np_arr_1[:4]    :  [1 2 3 4]\n",
            "np_arr_1[4:]    :  [5 6 7 8]\n",
            "np_arr_1[3:5]   :  [4 5]\n",
            "np_arr_2[:, 1]  :  [2. 6.]\n"
          ],
          "name": "stdout"
        }
      ]
    },
    {
      "metadata": {
        "id": "NTab7-AUgeY0",
        "colab_type": "code",
        "colab": {
          "base_uri": "https://localhost:8080/",
          "height": 69
        },
        "outputId": "6bed1604-c7f0-40b8-885a-7f42a86b2f4e"
      },
      "cell_type": "code",
      "source": [
        "# Get the Transpose of an ndarray with `.T`\n",
        "np_arr_4 = np_arr_1.T\n",
        "np_arr_5 = np_arr_2.T\n",
        "np_arr_6 = np_arr_3.T\n",
        "\n",
        "print ('Transposed shape of np_arr_1 is :', np_arr_4.shape, ' which originally was :', np_arr_1.shape)\n",
        "print ('Transposed shape of np_arr_2 is :', np_arr_5.shape, ' which originally was :', np_arr_2.shape)\n",
        "print ('Transposed shape of np_arr_3 is :', np_arr_6.shape, ' which originally was :', np_arr_3.shape)"
      ],
      "execution_count": 11,
      "outputs": [
        {
          "output_type": "stream",
          "text": [
            "Transposed shape of np_arr_1 is : (8,)  which originally was : (8,)\n",
            "Transposed shape of np_arr_2 is : (4, 2)  which originally was : (2, 4)\n",
            "Transposed shape of np_arr_3 is : (4, 2, 2)  which originally was : (2, 2, 4)\n"
          ],
          "name": "stdout"
        }
      ]
    },
    {
      "metadata": {
        "id": "m-5d3zCVQaBm",
        "colab_type": "code",
        "colab": {
          "base_uri": "https://localhost:8080/",
          "height": 69
        },
        "outputId": "b07fc576-b41a-43d9-9a74-39059f496128"
      },
      "cell_type": "code",
      "source": [
        "# Test whether ALL the elements in the array with a given axis evaluates to true\n",
        "# with `.all`\n",
        "# axis = 1 means by the row\n",
        "# axis = 0 means by the column\n",
        "\n",
        "np_bool_arr_1 = np.array([[True, True, True], [True, False, True]])\n",
        "\n",
        "# Check if all the elements in the array evaluates to true\n",
        "print ('Whether everything evaluates to true considering all elements in the array :', np_bool_arr_1.all())\n",
        "\n",
        "# Check if each row evaluates to True\n",
        "# Note: There are 2 rows, so we will get two values, one for each row\n",
        "print ('Whether everything evaluates to true in axis 1 :', np_bool_arr_1.all(axis=1)) \n",
        "\n",
        "# Check if each column evaluates to True\n",
        "# Note: There are 3 columns, so we will get three values, one for each column\n",
        "print ('Whether everything evaluates to true in axis 0 :', np_bool_arr_1.all(axis=0))"
      ],
      "execution_count": 17,
      "outputs": [
        {
          "output_type": "stream",
          "text": [
            "Whether everything evaluates to true considering all elements in the array : False\n",
            "Whether everything evaluates to true in axis 1 : [ True False]\n",
            "Whether everything evaluates to true in axis 0 : [ True False  True]\n"
          ],
          "name": "stdout"
        }
      ]
    },
    {
      "metadata": {
        "id": "Xq5N84i6g-y4",
        "colab_type": "code",
        "colab": {
          "base_uri": "https://localhost:8080/",
          "height": 69
        },
        "outputId": "2bc39079-757e-499d-a124-b13f57e34fd2"
      },
      "cell_type": "code",
      "source": [
        "# Test whether ANY of the element in the array with a given axis evaluates to true\n",
        "# with `.any`\n",
        "# axis = 1 means by the row\n",
        "# axis = 0 means by the column\n",
        "\n",
        "np_bool_arr_2 = np.array([[True, False, True], [True, False, True]])\n",
        "\n",
        "# Check if all the elements in the array evaluates to true\n",
        "print ('Whether everything evaluates to true considering all elements in the array :', np_bool_arr_1.any())\n",
        "\n",
        "# Check if each row evaluates to True\n",
        "# Note: There are 2 rows, so we will get two values, one for each row\n",
        "print ('Whether everything evaluates to true in axis 1 :', np_bool_arr_1.any(axis=1)) \n",
        "\n",
        "# Check if each column evaluates to True\n",
        "# Note: There are 3 columns, so we will get three values, one for each column\n",
        "print ('Whether everything evaluates to true in axis 0 :', np_bool_arr_1.any(axis=0))"
      ],
      "execution_count": 19,
      "outputs": [
        {
          "output_type": "stream",
          "text": [
            "Whether everything evaluates to true considering all elements in the array : True\n",
            "Whether everything evaluates to true in axis 1 : [ True  True]\n",
            "Whether everything evaluates to true in axis 0 : [ True False  True]\n"
          ],
          "name": "stdout"
        }
      ]
    },
    {
      "metadata": {
        "id": "P2APK0lTSm1A",
        "colab_type": "code",
        "colab": {
          "base_uri": "https://localhost:8080/",
          "height": 69
        },
        "outputId": "be873b4d-db42-4aaa-88b0-70d3fd6d5ce3"
      },
      "cell_type": "code",
      "source": [
        "# Get the *index* of the MAX element in the array with a given axis\n",
        "# with `.argmax`\n",
        "# axis = 1 means by the row\n",
        "# axis = 0 means by the column\n",
        "\n",
        "np_arr_7 = np.array([[34, 12, -65], [12, 56, -1], [45, 12, 67], [89, -34, 12]])\n",
        "\n",
        "# Check if all the elements in the array evaluates to true\n",
        "print ('The indexes of the MAX elements in the whole array :', np_arr_7.argmax())\n",
        "\n",
        "# Check if each row evaluates to True\n",
        "# Note: There are 2 rows, so we will get two values, one for each row\n",
        "print ('The indexes of the MAX elements in axis 1 :', np_arr_7.argmax(axis=1)) \n",
        "\n",
        "# Check if each column evaluates to True\n",
        "# Note: There are 3 columns, so we will get three values, one for each column\n",
        "print ('The indexes of the MAX elements in axis 0 :', np_arr_7.argmax(axis=0))"
      ],
      "execution_count": 22,
      "outputs": [
        {
          "output_type": "stream",
          "text": [
            "The indexes of the MAX elements in the whole array : 9\n",
            "The indexes of the MAX elements in axis 1 : [0 1 2 0]\n",
            "The indexes of the MAX elements in axis 0 : [3 1 2]\n"
          ],
          "name": "stdout"
        }
      ]
    },
    {
      "metadata": {
        "id": "N7rZEcW4TIit",
        "colab_type": "code",
        "colab": {
          "base_uri": "https://localhost:8080/",
          "height": 69
        },
        "outputId": "6b86f603-8636-46f3-c0b8-3670ae6d82ea"
      },
      "cell_type": "code",
      "source": [
        "# Get the *index* of the MIN element in the array with a given axis\n",
        "# with `.argmin`\n",
        "# axis = 1 means by the row\n",
        "# axis = 0 means by the column\n",
        "\n",
        "np_arr_8 = np.array([[37, 1, -65], [12, 563, -1], [95, 12, 67], [29, -3, 19]])\n",
        "\n",
        "# Check if all the elements in the array evaluates to true\n",
        "print ('The indexes of the MIN elements in the whole array :', np_arr_8.argmin())\n",
        "\n",
        "# Check if each row evaluates to True\n",
        "# Note: There are 2 rows, so we will get two values, one for each row\n",
        "print ('The indexes of the MIN elements in axis 1 :', np_arr_8.argmin(axis=1)) \n",
        "\n",
        "# Check if each column evaluates to True\n",
        "# Note: There are 3 columns, so we will get three values, one for each column\n",
        "print ('The indexes of the MIN elements in axis 0 :', np_arr_8.argmin(axis=0))"
      ],
      "execution_count": 23,
      "outputs": [
        {
          "output_type": "stream",
          "text": [
            "The indexes of the MIN elements in the whole array : 2\n",
            "The indexes of the MIN elements in axis 1 : [2 2 1 1]\n",
            "The indexes of the MIN elements in axis 0 : [1 3 0]\n"
          ],
          "name": "stdout"
        }
      ]
    },
    {
      "metadata": {
        "id": "TgYt49gTTKhM",
        "colab_type": "code",
        "colab": {
          "base_uri": "https://localhost:8080/",
          "height": 225
        },
        "outputId": "109154ad-7507-404a-fc01-1396931a7f73"
      },
      "cell_type": "code",
      "source": [
        "# Get the *index* of the elements of the array that would sort the array\n",
        "# with `.argsort`\n",
        "# axis = 1 means by the row\n",
        "# axis = 0 means by the column\n",
        "\n",
        "np_arr_9 = np.array([[125, 31, -65], [84, 23, -17], [357, 84, 8], [231, -23, 9]])\n",
        "\n",
        "# Check if all the elements in the array evaluates to true\n",
        "print ('The indexes of the elements in the whole array that would sort them: ', np_arr_9.argsort())\n",
        "\n",
        "# Check if each row evaluates to True\n",
        "# Note: There are 2 rows, so we will get two values, one for each row\n",
        "print ('The indexes of the elements in the whole array that would sort them in axis 1: ', np_arr_9.argsort(axis=1)) \n",
        "\n",
        "# Check if each column evaluates to True\n",
        "# Note: There are 3 columns, so we will get three values, one for each column\n",
        "print ('The indexes of the elements in the whole array that would sort them in axis 0:', np_arr_9.argsort(axis=0))"
      ],
      "execution_count": 24,
      "outputs": [
        {
          "output_type": "stream",
          "text": [
            "The indexes of the elements in the whole array that would sort them:  [[2 1 0]\n",
            " [2 1 0]\n",
            " [2 1 0]\n",
            " [1 2 0]]\n",
            "The indexes of the elements in the whole array that would sort them in axis 1:  [[2 1 0]\n",
            " [2 1 0]\n",
            " [2 1 0]\n",
            " [1 2 0]]\n",
            "The indexes of the elements in the whole array that would sort them in axis 0: [[1 3 0]\n",
            " [0 1 1]\n",
            " [3 0 2]\n",
            " [2 2 3]]\n"
          ],
          "name": "stdout"
        }
      ]
    },
    {
      "metadata": {
        "id": "wy_LQGhzTKW7",
        "colab_type": "code",
        "colab": {
          "base_uri": "https://localhost:8080/",
          "height": 34
        },
        "outputId": "02c535b8-4c6a-46dc-d0a8-c79d9fddebb5"
      },
      "cell_type": "code",
      "source": [
        "# Construct an array from an *index array* and a *set of arrays* to choose from.\n",
        "# using np.choose\n",
        "\n",
        "arrays_to_choose_from = [[1, 2, 3, 4], [5, 6, 7, 8], [9, 10, 11, 12], [13, 14, 15, 16]]\n",
        "\n",
        "# So the arrays_to_choose_from holds all the arrays where we will choose our elements from\n",
        "# Now let's pass the index array to np.choose along with the arrays_to_choose_from\n",
        "# An index array is one which holds the indexes\n",
        "\n",
        "new_array_from_index_array_and_arrays_to_choose_from = np.choose([3, 1, 2, 0], arrays_to_choose_from)\n",
        "\n",
        "# The result array will have\n",
        "# The first element from the first element from the array at the 3rd index of arrays_to_choose_from i.e. 13\n",
        "# The second element from the second element from the array at the 1st index of arrays_to_choose_from i.e. 6\n",
        "# The third element from the third element from the array at the 2nd index of arrays_to_choose_from i.e. 11\n",
        "# The fourth element from the fourth element from the array at the 0th index of arrays_to_choose_from i.e. 4\n",
        "\n",
        "# Let's print to check out\n",
        "print ('The new array is: ', new_array_from_index_array_and_arrays_to_choose_from)"
      ],
      "execution_count": 27,
      "outputs": [
        {
          "output_type": "stream",
          "text": [
            "The new array is:  [13  6 11  4]\n"
          ],
          "name": "stdout"
        }
      ]
    },
    {
      "metadata": {
        "id": "xIDZtd7aTKPH",
        "colab_type": "code",
        "colab": {
          "base_uri": "https://localhost:8080/",
          "height": 69
        },
        "outputId": "70dc577a-1e72-471e-bac1-77b7e0a36e2d"
      },
      "cell_type": "code",
      "source": [
        "# Get a evenly space values with a given interval\n",
        "# using np.arange\n",
        "\n",
        "np_arange_1 = np.arange(10)\n",
        "np_arange_2 = np.arange(10, 15.45)\n",
        "np_arange_3 = np.arange(10.23, 20.21, 2)\n",
        "\n",
        "print ('The array with starting from 0 and ending at 10 with interval of 1        : ', np_arange_1)\n",
        "print ('The array with starting from 10 and ending at 15.45 with interval of 1    : ', np_arange_2)\n",
        "print ('The array with starting from 10.23 and ending at 20.21 with interval of 2 : ', np_arange_3)"
      ],
      "execution_count": 31,
      "outputs": [
        {
          "output_type": "stream",
          "text": [
            "The array with starting from 0 and ending at 10 with interval of 1        :  [0 1 2 3 4 5 6 7 8 9]\n",
            "The array with starting from 10 and ending at 15.45 with interval of 1    :  [10. 11. 12. 13. 14. 15.]\n",
            "The array with starting from 10.23 and ending at 20.21 with interval of 2 :  [10.23 12.23 14.23 16.23 18.23]\n"
          ],
          "name": "stdout"
        }
      ]
    },
    {
      "metadata": {
        "id": "4w82itrPTKED",
        "colab_type": "code",
        "colab": {
          "base_uri": "https://localhost:8080/",
          "height": 52
        },
        "outputId": "cd5161bf-16e7-4a1b-b6e8-dbf01e6ff929"
      },
      "cell_type": "code",
      "source": [
        "# Clip (or limit) the values in the array\n",
        "# using np.clip\n",
        "\n",
        "np_arange_4 = np.arange(34, 56, 3)\n",
        "\n",
        "# Let's clip the values in the above array in between 45 and 50\n",
        "# So all values less than 45 will be 45\n",
        "# And all values greater than 50 will be 50\n",
        "np_clipped_1 = np_arange_4.clip(45, 50)\n",
        "\n",
        "print ('Original Array :', np_arange_4)\n",
        "print ('Clipped Array  :', np_clipped_1)"
      ],
      "execution_count": 33,
      "outputs": [
        {
          "output_type": "stream",
          "text": [
            "Original Array : [34 37 40 43 46 49 52 55]\n",
            "Clipped Array  : [45 45 45 45 46 49 50 50]\n"
          ],
          "name": "stdout"
        }
      ]
    },
    {
      "metadata": {
        "id": "vqjMqUQLZ1gU",
        "colab_type": "code",
        "colab": {
          "base_uri": "https://localhost:8080/",
          "height": 156
        },
        "outputId": "2684e129-3fea-4f78-a004-a2df7f8ebad7"
      },
      "cell_type": "code",
      "source": [
        "# Get the selected slices of an array along given axis\n",
        "# using np.compress\n",
        "\n",
        "np_arr_10 = np.array([[45, 23, 12, 56], \n",
        "                      [67, 2, 1, 5], \n",
        "                      [89, 3, 1, 0], \n",
        "                      [45, 67, 2, 1]])\n",
        "\n",
        "# Get the elements based on bool_array and the axis\n",
        "# If axis is None, a flattened array is considered\n",
        "print ('Compressed array getting the 1st and last columns: ', np_arr_10.compress([True, False, False, True], axis=0))\n",
        "print ('Compressed array getting the 1st and last rows: ', np_arr_10.compress([True, False, False, True], axis=1))\n",
        "print ('Compressed array getting the 1st and 3rd columns: ', np_arr_10.compress([True, False, True, False], axis=0))"
      ],
      "execution_count": 34,
      "outputs": [
        {
          "output_type": "stream",
          "text": [
            "Compressed array getting the 1st and last columns:  [[45 23 12 56]\n",
            " [45 67  2  1]]\n",
            "Compressed array getting the 1st and last rows:  [[45 56]\n",
            " [67  5]\n",
            " [89  0]\n",
            " [45  1]]\n",
            "Compressed array getting the 1st and 3rd columns:  [[45 23 12 56]\n",
            " [89  3  1  0]]\n"
          ],
          "name": "stdout"
        }
      ]
    },
    {
      "metadata": {
        "id": "fFC23zvreE6U",
        "colab_type": "code",
        "colab": {
          "base_uri": "https://localhost:8080/",
          "height": 173
        },
        "outputId": "6d3a6d18-3016-472d-840e-b3917a0cfd5b"
      },
      "cell_type": "code",
      "source": [
        "# Copy an ndarray\n",
        "# using np.copy\n",
        "\n",
        "np_arr_1 = np.array([[12, 45, 12], \n",
        "                     [56, 34, 12], \n",
        "                     [8, 12, 23]])\n",
        "\n",
        "np_arr_2 = np_arr_1\n",
        "np_arr_3 = np_arr_1.copy()\n",
        "\n",
        "# Now let's make some changes in np_arr_2 and np_arr_3\n",
        "np_arr_2[2, 1] = -100\n",
        "np_arr_3[0, 1] = -500\n",
        "\n",
        "# Now let's print out\n",
        "print ('np_arr_1 :', np_arr_1)\n",
        "print ('np_arr_2 :', np_arr_2)\n",
        "print ('np_arr_3 :', np_arr_3)\n",
        "\n",
        "# Notice, np_arr_1 gets changed when we change np_arr_2\n",
        "# But the same doesn't happen when we change an element using np_arr_3\n",
        "# In the first case, shallow copy happens\n",
        "# In the second case, deep copy happens"
      ],
      "execution_count": 35,
      "outputs": [
        {
          "output_type": "stream",
          "text": [
            "np_arr_1 : [[  12   45   12]\n",
            " [  56   34   12]\n",
            " [   8 -100   23]]\n",
            "np_arr_2 : [[  12   45   12]\n",
            " [  56   34   12]\n",
            " [   8 -100   23]]\n",
            "np_arr_3 : [[  12 -500   12]\n",
            " [  56   34   12]\n",
            " [   8   12   23]]\n"
          ],
          "name": "stdout"
        }
      ]
    },
    {
      "metadata": {
        "id": "HU13U2EGfqXY",
        "colab_type": "code",
        "colab": {
          "base_uri": "https://localhost:8080/",
          "height": 156
        },
        "outputId": "23a9caca-b590-4a96-f511-88119ba39267"
      },
      "cell_type": "code",
      "source": [
        "# Cumulative product along a given axis\n",
        "# using np.cumprod\n",
        "\n",
        "arr_1 = np.array([[23, 45, 12], [67, 12, 56]])\n",
        "\n",
        "# Let's do a cumulative product along the axis\n",
        "print ('Cumulative product of the entire array             \\n: ', arr_1.cumprod())\n",
        "print ('Cumulative product of the entire array along axis 1\\n: ', arr_1.cumprod(axis=1))\n",
        "print ('Cumulative product of the entire array along axis 0\\n: ', arr_1.cumprod(axis=0))"
      ],
      "execution_count": 37,
      "outputs": [
        {
          "output_type": "stream",
          "text": [
            "Cumulative product of the entire array             \n",
            ":  [       23      1035     12420    832140   9985680 559198080]\n",
            "Cumulative product of the entire array along axis 1\n",
            ":  [[   23  1035 12420]\n",
            " [   67   804 45024]]\n",
            "Cumulative product of the entire array along axis 0\n",
            ":  [[  23   45   12]\n",
            " [1541  540  672]]\n"
          ],
          "name": "stdout"
        }
      ]
    },
    {
      "metadata": {
        "id": "ysfbHWBwg-WB",
        "colab_type": "code",
        "colab": {
          "base_uri": "https://localhost:8080/",
          "height": 156
        },
        "outputId": "b84483a2-b51b-4989-819d-ecc50a84330f"
      },
      "cell_type": "code",
      "source": [
        "# Cumulative sum along a given axis\n",
        "# using np.cumsum\n",
        "\n",
        "arr_1 = np.array([[23, 45, 12], [67, 12, 56]])\n",
        "\n",
        "# Let's do a cumulative product along the axis\n",
        "print ('Cumulative sum of the entire array             \\n: ', arr_1.cumsum())\n",
        "print ('Cumulative sum of the entire array along axis 1\\n: ', arr_1.cumsum(axis=1))\n",
        "print ('Cumulative sum of the entire array along axis 0\\n: ', arr_1.cumsum(axis=0))"
      ],
      "execution_count": 38,
      "outputs": [
        {
          "output_type": "stream",
          "text": [
            "Cumulative sum of the entire array             \n",
            ":  [ 23  68  80 147 159 215]\n",
            "Cumulative sum of the entire array along axis 1\n",
            ":  [[ 23  68  80]\n",
            " [ 67  79 135]]\n",
            "Cumulative sum of the entire array along axis 0\n",
            ":  [[23 45 12]\n",
            " [90 57 68]]\n"
          ],
          "name": "stdout"
        }
      ]
    },
    {
      "metadata": {
        "id": "xAXrXI-bhVzW",
        "colab_type": "code",
        "colab": {
          "base_uri": "https://localhost:8080/",
          "height": 69
        },
        "outputId": "18eb8018-e2a0-4b3a-d97c-5645bcc8d042"
      },
      "cell_type": "code",
      "source": [
        "# Return specified diagonals\n",
        "# using np.diagonal\n",
        "\n",
        "arr_1 = np.array([[1, 2 ,3], [4, 5, 6], [7, 2, 1]])\n",
        "\n",
        "# Get the main diagonal\n",
        "print ('The main diagonal is: ', arr_1.diagonal())\n",
        "print ('The diagonal 1 offset to the left of the main diagonal: ', arr_1.diagonal(1))\n",
        "print ('The diagonal 1 offset to the right of the main diagonal: ', arr_1.diagonal(-1))"
      ],
      "execution_count": 41,
      "outputs": [
        {
          "output_type": "stream",
          "text": [
            "The main diagonal is:  [1 5 1]\n",
            "The diagonal 1 offset to the left of the main diagonal:  [2 6]\n",
            "The diagonal 1 offset to the right of the main diagonal:  [4 2]\n"
          ],
          "name": "stdout"
        }
      ]
    },
    {
      "metadata": {
        "id": "9gkjsNePjF3L",
        "colab_type": "code",
        "colab": {
          "base_uri": "https://localhost:8080/",
          "height": 69
        },
        "outputId": "6c3c4e52-a755-4a8d-d35a-f2cff45ad433"
      },
      "cell_type": "code",
      "source": [
        "# Get the maximum element along the axis\n",
        "# using np.max\n",
        "\n",
        "arr_1 = np.array([[1, 2 ,3], [4, 5, 6], [7, 2, 1]])\n",
        "\n",
        "print ('The max in the entire array is: ', arr_1.max())\n",
        "print ('The max in the entire array along axis 1 is: ', arr_1.max(axis=1))\n",
        "print ('The max in the entire array along axis 0 is: ', arr_1.max(axis=0))"
      ],
      "execution_count": 42,
      "outputs": [
        {
          "output_type": "stream",
          "text": [
            "The max in the entire array is:  7\n",
            "The max in the entire array along axis 1 is:  [3 6 7]\n",
            "The max in the entire array along axis 0 is:  [7 5 6]\n"
          ],
          "name": "stdout"
        }
      ]
    },
    {
      "metadata": {
        "id": "0RMyEv8aj4Eg",
        "colab_type": "code",
        "colab": {
          "base_uri": "https://localhost:8080/",
          "height": 69
        },
        "outputId": "1fae8317-ada2-4425-9823-1fce70c05365"
      },
      "cell_type": "code",
      "source": [
        "# Get the minimum element along the axis\n",
        "# using np.min\n",
        "\n",
        "arr_1 = np.array([[1, 2 ,3], [4, 5, 6], [7, 2, 1]])\n",
        "\n",
        "print ('The min in the entire array is: ', arr_1.min())\n",
        "print ('The min in the entire array along axis 1 is: ', arr_1.min(axis=1))\n",
        "print ('The min in the entire array along axis 0 is: ', arr_1.min(axis=0))"
      ],
      "execution_count": 43,
      "outputs": [
        {
          "output_type": "stream",
          "text": [
            "The min in the entire array is:  1\n",
            "The min in the entire array along axis 1 is:  [1 4 1]\n",
            "The min in the entire array along axis 0 is:  [1 2 1]\n"
          ],
          "name": "stdout"
        }
      ]
    },
    {
      "metadata": {
        "id": "jKULmS6skAu7",
        "colab_type": "code",
        "colab": {
          "base_uri": "https://localhost:8080/",
          "height": 69
        },
        "outputId": "50f8bbef-3536-4f4b-c1da-32c8a6f5ce3b"
      },
      "cell_type": "code",
      "source": [
        "# Get the mean of the all the elements along the axis\n",
        "# using np.mean\n",
        "\n",
        "arr_1 = np.array([[1, 2 ,3], [4, 5, 6], [7, 2, 1]])\n",
        "\n",
        "print ('The mean in the entire array is: ', arr_1.mean())\n",
        "print ('The mean in the entire array along axis 1 is: ', arr_1.mean(axis=1))\n",
        "print ('The mean in the entire array along axis 0 is: ', arr_1.mean(axis=0))"
      ],
      "execution_count": 44,
      "outputs": [
        {
          "output_type": "stream",
          "text": [
            "The mean in the entire array is:  3.4444444444444446\n",
            "The mean in the entire array along axis 1 is:  [2.         5.         3.33333333]\n",
            "The mean in the entire array along axis 0 is:  [4.         3.         3.33333333]\n"
          ],
          "name": "stdout"
        }
      ]
    },
    {
      "metadata": {
        "id": "_-9O9VjHkNL7",
        "colab_type": "code",
        "colab": {
          "base_uri": "https://localhost:8080/",
          "height": 121
        },
        "outputId": "fcce422d-b21d-47ff-b86f-c301bb65c06d"
      },
      "cell_type": "code",
      "source": [
        "# Get the elements of the array that are non-zero\n",
        "# using np.nonzero\n",
        "\n",
        "arr_1 = np.array([[1, 0 ,3], \n",
        "                  [0, 5, 0], \n",
        "                  [7, 2, 0]])\n",
        "\n",
        "print ('The mean in the entire array is: ', arr_1.nonzero())\n",
        "\n",
        "# How to interpret the result?\n",
        "# We can do something like this\n",
        "\n",
        "print ('A better representation: ', np.transpose(arr_1.nonzero()))\n",
        "\n",
        "# Each row in the above returned axis is the (i, j) value for all the positive indexes"
      ],
      "execution_count": 48,
      "outputs": [
        {
          "output_type": "stream",
          "text": [
            "The mean in the entire array is:  (array([0, 0, 1, 2, 2]), array([0, 2, 1, 0, 1]))\n",
            "A better representation:  [[0 0]\n",
            " [0 2]\n",
            " [1 1]\n",
            " [2 0]\n",
            " [2 1]]\n"
          ],
          "name": "stdout"
        }
      ]
    },
    {
      "metadata": {
        "id": "dQg0iZzHkkJf",
        "colab_type": "code",
        "colab": {
          "base_uri": "https://localhost:8080/",
          "height": 69
        },
        "outputId": "a5fea3ec-82b1-4cbe-cb0f-5d5b9adeb28b"
      },
      "cell_type": "code",
      "source": [
        "# Get the product of the elements in a given axis\n",
        "# using np.prod\n",
        "\n",
        "arr_1 = np.array([[1, 2 ,3], \n",
        "                  [4, 5, 6], \n",
        "                  [7, 2, 1]])\n",
        "\n",
        "print ('The product of all elements along the col: ', arr_1.prod(axis=0))\n",
        "print ('The product of all elements along the row: ', arr_1.prod(axis=1))"
      ],
      "execution_count": 52,
      "outputs": [
        {
          "output_type": "stream",
          "text": [
            "The product of all elements along the col:  [28 20 18]\n",
            "The product of all elements along the row:  [  6 120  14]\n",
            "We get a random value when we do arr_1.prod() without mentioning the axis:  10080\n"
          ],
          "name": "stdout"
        }
      ]
    },
    {
      "metadata": {
        "id": "UsSJ1GdepQuj",
        "colab_type": "code",
        "colab": {
          "base_uri": "https://localhost:8080/",
          "height": 34
        },
        "outputId": "fe234dd1-4557-4d03-f2c2-20bd94a16901"
      },
      "cell_type": "code",
      "source": [
        "# Replace specified elements of an array with given values.\n",
        "# using np.put\n",
        "\n",
        "arr_1 = np.arange(10, 40, 3)\n",
        "\n",
        "# np.put changes the array implicitly and returns None\n",
        "arr_1.put([3, 4, 5], [56, 23, 12])\n",
        "print ('Replace the indexes [3, 4, 5] with [56, 23, 12]: ', arr_1)"
      ],
      "execution_count": 62,
      "outputs": [
        {
          "output_type": "stream",
          "text": [
            "Replace the indexes [3, 4, 5] with [56, 23, 12]:  [10 13 16 56 23 12 28 31 34 37]\n"
          ],
          "name": "stdout"
        }
      ]
    },
    {
      "metadata": {
        "id": "g9kYhInnq6oi",
        "colab_type": "code",
        "colab": {
          "base_uri": "https://localhost:8080/",
          "height": 52
        },
        "outputId": "2c7de4ff-24d4-4145-a3c5-53f4a3e8169a"
      },
      "cell_type": "code",
      "source": [
        "# Flatten a ndarray\n",
        "# using np.ravel\n",
        "\n",
        "arr_1 = np.array([[1, 2 ,3], \n",
        "                  [4, 5, 6], \n",
        "                  [7, 2, 1]])\n",
        "\n",
        "print ('Flattened arr_1 with row-major read: ', arr_1.ravel(order='C'))\n",
        "print ('Flattened arr_1 with col-major read: ', arr_1.ravel(order='F'))"
      ],
      "execution_count": 66,
      "outputs": [
        {
          "output_type": "stream",
          "text": [
            "Flattened arr_1 with row-major read:  [1 2 3 4 5 6 7 2 1]\n",
            "Flattened arr_1 with col-major read:  [1 4 7 2 5 2 3 6 1]\n"
          ],
          "name": "stdout"
        }
      ]
    },
    {
      "metadata": {
        "id": "9Ui7_KMNrgoA",
        "colab_type": "code",
        "colab": {
          "base_uri": "https://localhost:8080/",
          "height": 156
        },
        "outputId": "b1548c48-516c-47f0-a0fe-a7c96da32ef5"
      },
      "cell_type": "code",
      "source": [
        "# Repeat the elements of an array\n",
        "# using np.repeat\n",
        "\n",
        "arr_1 = np.array([1, 2, 3, 4])\n",
        "arr_2 = np.array([[1, 2, 3, 4], [5, 6, 7, 8]])\n",
        "\n",
        "print ('arr_1 repeated 3 times: ', arr_1.repeat(3))\n",
        "print ('arr_2 repeated 2 times: ', arr_2.repeat(2))\n",
        "print ('arr_2 repeated 2 times along axis 1: ', arr_2.repeat(2, axis=1))\n",
        "print ('arr_2 repeated 2 times along axis 0: ', arr_2.repeat(2, axis=0))"
      ],
      "execution_count": 68,
      "outputs": [
        {
          "output_type": "stream",
          "text": [
            "arr_1 repeated 3 times:  [1 1 1 2 2 2 3 3 3 4 4 4]\n",
            "arr_2 repeated 2 times:  [1 1 2 2 3 3 4 4 5 5 6 6 7 7 8 8]\n",
            "arr_2 repeated 2 times along axis 1:  [[1 1 2 2 3 3 4 4]\n",
            " [5 5 6 6 7 7 8 8]]\n",
            "arr_2 repeated 2 times along axis 0:  [[1 2 3 4]\n",
            " [1 2 3 4]\n",
            " [5 6 7 8]\n",
            " [5 6 7 8]]\n"
          ],
          "name": "stdout"
        }
      ]
    },
    {
      "metadata": {
        "id": "hjXTGskHw4S4",
        "colab_type": "code",
        "colab": {
          "base_uri": "https://localhost:8080/",
          "height": 156
        },
        "outputId": "fb2cc51b-3147-49f3-c221-e0f3947440f1"
      },
      "cell_type": "code",
      "source": [
        "# Give a new shape to the ndarray\n",
        "# using np.reshape\n",
        "\n",
        "arr_1 = np.array([1, 2, 3, 4])\n",
        "arr_2 = np.array([[1, 2, 3, 4], [5, 6, 7, 8]])\n",
        "\n",
        "arr_1 = arr_1.reshape(2, 2)\n",
        "arr_2 = arr_2.reshape(4, 2)\n",
        "\n",
        "print ('The new shape of arr_1 is: ', arr_1.shape)\n",
        "print ('The arr_1 is now: ', arr_1)\n",
        "print ('The new shape of arr_2 is: ', arr_2.shape)\n",
        "print ('The arr_2 is now: ', arr_2)"
      ],
      "execution_count": 70,
      "outputs": [
        {
          "output_type": "stream",
          "text": [
            "The new shape of arr_1 is:  (2, 2)\n",
            "The arr_1 is now:  [[1 2]\n",
            " [3 4]]\n",
            "The new shape of arr_2 is:  (4, 2)\n",
            "The arr_2 is now:  [[1 2]\n",
            " [3 4]\n",
            " [5 6]\n",
            " [7 8]]\n"
          ],
          "name": "stdout"
        }
      ]
    },
    {
      "metadata": {
        "id": "8rUA0eSwxpor",
        "colab_type": "code",
        "colab": {
          "base_uri": "https://localhost:8080/",
          "height": 69
        },
        "outputId": "cc9f4f76-a2cf-4bc5-e4c0-8e51a02206cf"
      },
      "cell_type": "code",
      "source": [
        "# Round the elements in the ndarray\n",
        "# using np.round\n",
        "\n",
        "arr_1 = np.array([[1.34, 5.23, 6.23, 8.232], [5.2324, 734.2323, 121.1222, 7.343]])\n",
        "\n",
        "# Rounding all elements to 2 decimal places\n",
        "arr_1 = arr_1.round(2)\n",
        "\n",
        "print ('The new arr_1 is: \\n', arr_1)"
      ],
      "execution_count": 73,
      "outputs": [
        {
          "output_type": "stream",
          "text": [
            "The new arr_1 is: \n",
            " [[  1.34   5.23   6.23   8.23]\n",
            " [  5.23 734.23 121.12   7.34]]\n"
          ],
          "name": "stdout"
        }
      ]
    },
    {
      "metadata": {
        "id": "t8fA0jz_yNFg",
        "colab_type": "code",
        "colab": {
          "base_uri": "https://localhost:8080/",
          "height": 52
        },
        "outputId": "da2e95ff-1bdb-46a9-ba3d-d551946c7385"
      },
      "cell_type": "code",
      "source": [
        "# Get the index of position where inserting a certain element wouldn't disturb\n",
        "# the array sortedness\n",
        "# using np.searchsorted\n",
        "\n",
        "arr_1 = np.arange(10)\n",
        "\n",
        "print ('The index where inserting 3 wont disturb the ordering from the left i.e. the first index: ', arr_1.searchsorted(3, side='left'))\n",
        "print ('The index where inserting 3 wont disturb the ordering from the right i.e. the last index: ', arr_1.searchsorted(3, side='right'))"
      ],
      "execution_count": 76,
      "outputs": [
        {
          "output_type": "stream",
          "text": [
            "The index where inserting 3 wont disturb the ordering from the left i.e. the first index:  3\n",
            "The index where inserting 3 wont disturb the ordering from the right i.e. the last index:  4\n"
          ],
          "name": "stdout"
        }
      ]
    },
    {
      "metadata": {
        "id": "9UJx3AIuy2pr",
        "colab_type": "code",
        "colab": {
          "base_uri": "https://localhost:8080/",
          "height": 104
        },
        "outputId": "b3646fd2-fd83-4fc3-ac92-2cee012ba1cd"
      },
      "cell_type": "code",
      "source": [
        "# Sort an ndarray\n",
        "# using np.sort\n",
        "\n",
        "arr_1 = np.array([45, 2, 78, 23])\n",
        "arr_2 = np.array([[78, 2, 34, 8, 12], [56, 23, 89, 231, 1]])\n",
        "\n",
        "arr_1.sort()\n",
        "arr_2.sort() # we can soecify the axis here\n",
        "\n",
        "print ('The sorted arr_1 is: \\n', arr_1)\n",
        "print ('The sorted arr_2 is: \\n', arr_2)"
      ],
      "execution_count": 79,
      "outputs": [
        {
          "output_type": "stream",
          "text": [
            "The sorted arr_1 is: \n",
            " [ 2 23 45 78]\n",
            "The sorted arr_2 is: \n",
            " [[  2   8  12  34  78]\n",
            " [  1  23  56  89 231]]\n"
          ],
          "name": "stdout"
        }
      ]
    },
    {
      "metadata": {
        "id": "Pr2c9pxTzrUh",
        "colab_type": "code",
        "colab": {
          "base_uri": "https://localhost:8080/",
          "height": 52
        },
        "outputId": "294a3b2b-a38f-493a-8638-6221a297d107"
      },
      "cell_type": "code",
      "source": [
        "# Remove single-dimensional entries from the shape of an array.\n",
        "# using np.squeeze\n",
        "\n",
        "arr_1 = np.array([[[3], [45], [78]]])\n",
        "\n",
        "print ('Current Shape of the array: ', arr_1.shape)\n",
        "\n",
        "arr_1 = arr_1.squeeze()\n",
        "\n",
        "print ('Squeezed Shape of the array: ', arr_1.shape)"
      ],
      "execution_count": 88,
      "outputs": [
        {
          "output_type": "stream",
          "text": [
            "Current Shape of the array:  (1, 3, 1)\n",
            "Squeezed Shape of the array:  (3,)\n"
          ],
          "name": "stdout"
        }
      ]
    },
    {
      "metadata": {
        "id": "ti6fwBoT0Ubc",
        "colab_type": "code",
        "colab": {
          "base_uri": "https://localhost:8080/",
          "height": 69
        },
        "outputId": "caa1d2a9-beff-4e27-f626-78d1f5d153f5"
      },
      "cell_type": "code",
      "source": [
        "# Compute the standard deviation along the specified axis.\n",
        "# using np.std\n",
        "\n",
        "arr_1 = np.array([45, 2, 78, 23])\n",
        "arr_2 = np.array([[78, 2, 34, 8, 12], [56, 23, 89, 231, 1]])\n",
        "\n",
        "print ('The standard deviation for arr_1 is: ', arr_1.std())\n",
        "print ('The standard deviation for arr_2 along axis 1 is: ', arr_2.std(axis=1))\n",
        "print ('The standard deviation for arr_2 along axis 0 is: ', arr_2.std(axis=0))"
      ],
      "execution_count": 90,
      "outputs": [
        {
          "output_type": "stream",
          "text": [
            "The standard deviation for arr_1 is:  28.1336097932704\n",
            "The standard deviation for arr_2 along axis 1 is:  [27.78776709 81.17635124]\n",
            "The standard deviation for arr_1 along axis 0 is:  [ 11.   10.5  27.5 111.5   5.5]\n"
          ],
          "name": "stdout"
        }
      ]
    },
    {
      "metadata": {
        "id": "w-sQHXpa2mUJ",
        "colab_type": "code",
        "colab": {
          "base_uri": "https://localhost:8080/",
          "height": 69
        },
        "outputId": "8968dd7f-8ac5-4c66-8639-710b711743c3"
      },
      "cell_type": "code",
      "source": [
        "# Sum of array elements over a given axis.\n",
        "# using np.sum\n",
        "\n",
        "arr_1 = np.array([45, 2, 78, 23])\n",
        "arr_2 = np.array([[78, 2, 34, 8, 12], [56, 23, 89, 231, 1]])\n",
        "\n",
        "print ('The sum for arr_1 is: ', arr_1.sum())\n",
        "print ('The sum for arr_2 along axis 1 is: ', arr_2.sum(axis=1))\n",
        "print ('The sum for arr_1 along axis 0 is: ', arr_2.sum(axis=0))"
      ],
      "execution_count": 92,
      "outputs": [
        {
          "output_type": "stream",
          "text": [
            "The sum for arr_1 is:  148\n",
            "The sum for arr_2 along axis 1 is:  [134 400]\n",
            "The sum for arr_1 along axis 0 is:  [134  25 123 239  13]\n"
          ],
          "name": "stdout"
        }
      ]
    },
    {
      "metadata": {
        "id": "ArkZtq0J292l",
        "colab_type": "code",
        "colab": {
          "base_uri": "https://localhost:8080/",
          "height": 399
        },
        "outputId": "987fcd4b-1ff2-4a41-9498-308aa1b2f8bc"
      },
      "cell_type": "code",
      "source": [
        "# Interchange two axes of an array.\n",
        "# using np.swapaxes\n",
        "\n",
        "arr_1 = np.array([[45, 2, 78, 23], \n",
        "                  [45, 23, 67, 12]])\n",
        "\n",
        "arr_2 = np.array([[78, 2, 34, 8, 12], \n",
        "                  [56, 23, 89, 231, 1], \n",
        "                  [73, 124, 832, 75, 56]])\n",
        "\n",
        "print ('Original arr_1      : \\n', arr_1)\n",
        "print ('Original arr_1 shape: ', arr_1.shape)\n",
        "arr_1 = arr_1.swapaxes(1, 0)\n",
        "print ('Swaped arr_1: \\n', arr_1)\n",
        "print ('Swaped arr_1 shape: ', arr_1.shape)\n",
        "\n",
        "print ('Original arr_2      : \\n', arr_2)\n",
        "print ('Original arr_2 shape: ', arr_2.shape)\n",
        "arr_2 = arr_2.swapaxes(1, 0)\n",
        "print ('Swaped arr_2: \\n', arr_2)\n",
        "print ('Swaped arr_2 shape: ', arr_2.shape)"
      ],
      "execution_count": 99,
      "outputs": [
        {
          "output_type": "stream",
          "text": [
            "Original arr_1      : \n",
            " [[45  2 78 23]\n",
            " [45 23 67 12]]\n",
            "Original arr_1 shape:  (2, 4)\n",
            "Swaped arr_1: \n",
            " [[45 45]\n",
            " [ 2 23]\n",
            " [78 67]\n",
            " [23 12]]\n",
            "Swaped arr_1 shape:  (4, 2)\n",
            "Original arr_2      : \n",
            " [[ 78   2  34   8  12]\n",
            " [ 56  23  89 231   1]\n",
            " [ 73 124 832  75  56]]\n",
            "Original arr_2 shape:  (3, 5)\n",
            "Swaped arr_2: \n",
            " [[ 78  56  73]\n",
            " [  2  23 124]\n",
            " [ 34  89 832]\n",
            " [  8 231  75]\n",
            " [ 12   1  56]]\n",
            "Swaped arr_2 shape:  (5, 3)\n"
          ],
          "name": "stdout"
        }
      ]
    },
    {
      "metadata": {
        "id": "1l8127fHCcWT",
        "colab_type": "code",
        "colab": {
          "base_uri": "https://localhost:8080/",
          "height": 34
        },
        "outputId": "ff18e02d-7344-42cd-c0b6-51319e8ace50"
      },
      "cell_type": "code",
      "source": [
        "# Take a random permutation of the array\n",
        "# using np.random.permutation\n",
        "\n",
        "arr_1 = np.arange(12, 35, 2)\n",
        "\n",
        "perm_arr_1 = np.random.permutation(arr_1)\n",
        "\n",
        "print ('A random permutation of arr_1 is: ', perm_arr_1)"
      ],
      "execution_count": 102,
      "outputs": [
        {
          "output_type": "stream",
          "text": [
            "A random permutation of arr_1 is:  [14 24 28 32 26 30 16 34 12 18 20 22]\n"
          ],
          "name": "stdout"
        }
      ]
    },
    {
      "metadata": {
        "id": "1uwVLPsx860f",
        "colab_type": "code",
        "colab": {
          "base_uri": "https://localhost:8080/",
          "height": 104
        },
        "outputId": "84e4ced1-03bd-4c7c-86ad-cd930a3611cb"
      },
      "cell_type": "code",
      "source": [
        "# Take elements from an array along an axis.\n",
        "# using np.take\n",
        "\n",
        "arr_1 = np.random.permutation(np.arange(2, 45, 3))\n",
        "print ('The arr_1 is: ', arr_1)\n",
        "\n",
        "arr_take_1 = arr_1.take([2, 3, 4, 5])\n",
        "arr_take_2 = arr_1.take([[4, 11], [7, 9]])\n",
        "\n",
        "print ('Taking out 4 indexes from the np.array: ', arr_take_1)\n",
        "print ('Taking out 4 indexes in the form of 2d array! :\\n', arr_take_2)"
      ],
      "execution_count": 105,
      "outputs": [
        {
          "output_type": "stream",
          "text": [
            "The arr_1 is:  [17 44 38  8 11  2 41 35 23 20  5 14 32 26 29]\n",
            "Taking out 4 indexes from the np.array:  [38  8 11  2]\n",
            "Taking out 4 indexes in the form of 2d array! :\n",
            " [[11 14]\n",
            " [35 20]]\n"
          ],
          "name": "stdout"
        }
      ]
    },
    {
      "metadata": {
        "id": "HiS6_zw4DJu-",
        "colab_type": "code",
        "colab": {
          "base_uri": "https://localhost:8080/",
          "height": 156
        },
        "outputId": "448dcccc-76c9-4537-a112-8917dc28878b"
      },
      "cell_type": "code",
      "source": [
        "# Return the sum along diagonals of the array.\n",
        "# using np.trace\n",
        "\n",
        "arr_1 = np.array([[45, 2, 78, 23], \n",
        "                  [45, 23, 67, 12],\n",
        "                  [76, 23, 12, 78]])\n",
        "\n",
        "arr_2 = np.array([[78, 2, 34, 8, 12], \n",
        "                  [56, 23, 89, 231, 1], \n",
        "                  [73, 124, 832, 75, 56]])\n",
        "\n",
        "print ('The trace along arr_1:\\n', arr_1.trace())\n",
        "print ('The trace along arr_2:\\n', arr_2.trace())\n",
        "print ('The trace along arr_2 with offset 1 to the right:\\n', arr_1.trace(offset=1))\n",
        "print ('The trace along arr_2 with offset 1 to the left:\\n', arr_1.trace(offset=-1))"
      ],
      "execution_count": 108,
      "outputs": [
        {
          "output_type": "stream",
          "text": [
            "The trace along arr_1:\n",
            " 80\n",
            "The trace along arr_2:\n",
            " 933\n",
            "The trace along arr_2 with offset 1 to the right:\n",
            " 147\n",
            "The trace along arr_2 with offset 1 to the left:\n",
            " 68\n"
          ],
          "name": "stdout"
        }
      ]
    },
    {
      "metadata": {
        "id": "1UXHV7c8Eyqv",
        "colab_type": "code",
        "colab": {
          "base_uri": "https://localhost:8080/",
          "height": 469
        },
        "outputId": "6a0c163a-23e6-4e27-d90f-f7611762051a"
      },
      "cell_type": "code",
      "source": [
        "# Permute the dimensions of an array.\n",
        "# using np.transpose\n",
        "\n",
        "arr_1 = np.array([[45, 2, 78, 23], \n",
        "                  [45, 23, 67, 12],\n",
        "                  [76, 23, 12, 78]])\n",
        "\n",
        "arr_2 = np.zeros((4, 3, 1, 3))\n",
        "\n",
        "print ('The shape of arr_1 is: ', arr_1.shape)\n",
        "print ('The shape of arr_2 is: ', arr_2.shape)\n",
        "\n",
        "print ('The permutation of dims of arr_1:\\n', arr_1.transpose(), ' and the shape is: ', arr_1.transpose().shape)\n",
        "print ('The permutation of dims of arr_2:\\n', arr_2.transpose(0, 2, 1, 3), ' and the shape is: ', arr_2.transpose(0, 2, 1, 3).shape)"
      ],
      "execution_count": 115,
      "outputs": [
        {
          "output_type": "stream",
          "text": [
            "The shape of arr_1 is:  (3, 4)\n",
            "The shape of arr_2 is:  (4, 3, 1, 3)\n",
            "The permutation of dims of arr_1:\n",
            " [[45 45 76]\n",
            " [ 2 23 23]\n",
            " [78 67 12]\n",
            " [23 12 78]]  and the shape is:  (4, 3)\n",
            "The permutation of dims of arr_2:\n",
            " [[[[0. 0. 0.]\n",
            "   [0. 0. 0.]\n",
            "   [0. 0. 0.]]]\n",
            "\n",
            "\n",
            " [[[0. 0. 0.]\n",
            "   [0. 0. 0.]\n",
            "   [0. 0. 0.]]]\n",
            "\n",
            "\n",
            " [[[0. 0. 0.]\n",
            "   [0. 0. 0.]\n",
            "   [0. 0. 0.]]]\n",
            "\n",
            "\n",
            " [[[0. 0. 0.]\n",
            "   [0. 0. 0.]\n",
            "   [0. 0. 0.]]]]  and the shape is:  (4, 1, 3, 3)\n"
          ],
          "name": "stdout"
        }
      ]
    },
    {
      "metadata": {
        "id": "YIjyyFfPFefJ",
        "colab_type": "code",
        "colab": {
          "base_uri": "https://localhost:8080/",
          "height": 69
        },
        "outputId": "4f368620-ed7c-4fbc-bb3e-e203c1e132ff"
      },
      "cell_type": "code",
      "source": [
        "# Compute the variance along the specified axis.\n",
        "# using np.var\n",
        "\n",
        "arr_1 = np.array([45, 2, 78, 23])\n",
        "arr_2 = np.array([[78, 2, 34, 8, 12], [56, 23, 89, 231, 1]])\n",
        "\n",
        "print ('The variance for arr_1 is: ', arr_1.var())\n",
        "print ('The variance for arr_2 along axis 1 is: ', arr_2.var(axis=1))\n",
        "print ('The variance for arr_2 along axis 0 is: ', arr_2.var(axis=0))"
      ],
      "execution_count": 116,
      "outputs": [
        {
          "output_type": "stream",
          "text": [
            "The variance for arr_1 is:  791.5\n",
            "The variance for arr_2 along axis 1 is:  [ 772.16 6589.6 ]\n",
            "The variance for arr_2 along axis 0 is:  [  121.     110.25   756.25 12432.25    30.25]\n"
          ],
          "name": "stdout"
        }
      ]
    },
    {
      "metadata": {
        "id": "hqA5oez4H1dA",
        "colab_type": "code",
        "colab": {}
      },
      "cell_type": "code",
      "source": [
        ""
      ],
      "execution_count": 0,
      "outputs": []
    }
  ]
}