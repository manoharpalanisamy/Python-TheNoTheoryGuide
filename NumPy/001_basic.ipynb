{
 "cells": [
  {
   "cell_type": "code",
   "execution_count": null,
   "metadata": {},
   "outputs": [],
   "source": [
    "# import numpy\n",
    "import numpy as np"
   ]
  },
  {
   "cell_type": "code",
   "execution_count": null,
   "metadata": {},
   "outputs": [],
   "source": [
    "# numpy.arange([start, ]stop, [step, ]dtype=None)\n",
    "\n",
    "print (np.arange(3))           # start=0 | stop=3  | step=1\n",
    "print (np.arange(5, 25))       # start=5 | stop=25 | step=1\n",
    "print (np.arange(10, 100, 10)) # start=5 | stop=100 | step=10"
   ]
  },
  {
   "cell_type": "code",
   "execution_count": null,
   "metadata": {},
   "outputs": [],
   "source": [
    "# numpy.array (object, dtype=None, copy=True, order='K', subok=False, ndmin=0)\n",
    "\n",
    "print (np.array([1, 2, 3]))                                                              # 1D\n",
    "print (np.array([[1, 2, 3], [4, 5, 6]], ndmin=2))                                                 # 2D\n",
    "print (np.array([[[1, 2, 3], [4, 5, 6], [7, 8, 9]], [[1, 2, 3], [4, 5, 6], [7, 8, 9]]])) # 3D"
   ]
  },
  {
   "cell_type": "code",
   "execution_count": null,
   "metadata": {},
   "outputs": [],
   "source": [
    "# 1D Array\n",
    "a = np.array([1, 2, 3, 4, 5], ndim=1)\n",
    "\n",
    "print (\"Type: \"  + str(a.dtype)) # Type of elements in the array\n",
    "print (\"Axes: \"  + str(a.ndim))  # Number of axes (dimensions) in the array\n",
    "print (\"Size: \"  + str(a.size))  # The size of the array\n",
    "print (\"Shape: \" + str(a.shape)) # The dimensions of the array"
   ]
  },
  {
   "cell_type": "code",
   "execution_count": null,
   "metadata": {},
   "outputs": [],
   "source": [
    "# 2D Array\n",
    "a = np.array([[11, 12, 13], [21, 22, 23], [31, 32, 33], [41, 42, 43], [51, 52, 53]])\n",
    "\n",
    "print (\"Type:  \"  + str(a.dtype)) # Type of elements in the array\n",
    "print (\"Axes:  \"  + str(a.ndim))  # Number of axes (dimensions) in the array\n",
    "print (\"Size:  \"  + str(a.size))  # The size of the array\n",
    "print (\"Shape: \"  + str(a.shape)) # The dimensions of the array"
   ]
  }
 ],
 "metadata": {
  "kernelspec": {
   "display_name": "Python 3",
   "language": "python",
   "name": "python3"
  },
  "language_info": {
   "codemirror_mode": {
    "name": "ipython",
    "version": 3
   },
   "file_extension": ".py",
   "mimetype": "text/x-python",
   "name": "python",
   "nbconvert_exporter": "python",
   "pygments_lexer": "ipython3",
   "version": "3.6.3"
  }
 },
 "nbformat": 4,
 "nbformat_minor": 2
}
